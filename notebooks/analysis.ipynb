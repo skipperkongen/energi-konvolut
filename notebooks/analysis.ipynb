{
 "cells": [
  {
   "cell_type": "code",
   "execution_count": 36,
   "id": "e7b20545",
   "metadata": {},
   "outputs": [],
   "source": [
    "import matplotlib.pyplot as plt\n",
    "import numpy as np"
   ]
  },
  {
   "cell_type": "code",
   "execution_count": 135,
   "id": "fce3b572",
   "metadata": {},
   "outputs": [],
   "source": [
    "DAYS_PER_MONTH = np.array([31, 28, 31, 30, 31, 30, 31, 31, 30, 31, 30, 31])\n",
    "N_MONTHS = 12\n",
    "\n",
    "def pv_prod(capacity, years=1):\n",
    "    \"\"\"\n",
    "    Normalised PV output distribution computed from monthly means in PVWatts file\n",
    "    - Array indices = month (0 indexed), hour of day (0 indexed)\n",
    "    \"\"\"\n",
    "    dist = np.array([\n",
    "         [0., 0., 0., 0., 0., 0., 0., 0., 0., 0.038, 0.126, 0.225, 0.251, 0.213, 0.119, 0.019, 0., 0.,0., 0., 0., 0., 0., 0. ],\n",
    "         [0., 0., 0., 0., 0., 0., 0., 0., 0.056,0.169, 0.277, 0.328, 0.336, 0.32 , 0.26 , 0.162, 0.041, 0.,0., 0., 0., 0., 0., 0. ],\n",
    "         [0., 0., 0., 0., 0., 0., 0.005, 0.068, 0.202, 0.333, 0.439, 0.504, 0.512, 0.455, 0.357, 0.234, 0.126, 0.024, 0., 0., 0., 0., 0., 0. ],\n",
    "         [0., 0., 0., 0., 0., 0.007, 0.057, 0.183, 0.333, 0.463, 0.549, 0.575, 0.543, 0.523, 0.451, 0.337, 0.214, 0.087, 0.015, 0., 0., 0., 0., 0. ],\n",
    "         [0., 0., 0., 0., 0.005, 0.047, 0.126, 0.276, 0.438, 0.571, 0.655, 0.679, 0.646, 0.623, 0.54 , 0.414, 0.282, 0.143, 0.054, 0.009, 0., 0., 0., 0. ],\n",
    "         [0., 0., 0., 0., 0.015, 0.062, 0.138, 0.277, 0.426, 0.547, 0.65 , 0.709, 0.713, 0.669, 0.58 , 0.45 , 0.312, 0.177, 0.08 , 0.03 , 0., 0., 0., 0. ],\n",
    "         [0., 0., 0., 0., 0.007, 0.047, 0.112, 0.236, 0.377, 0.503, 0.612, 0.675, 0.671, 0.645, 0.571, 0.452, 0.32 , 0.179, 0.075, 0.025, 0., 0., 0., 0. ],\n",
    "         [0., 0., 0., 0., 0., 0.016, 0.075, 0.205, 0.359, 0.483, 0.6 , 0.658, 0.658, 0.608, 0.51 , 0.373, 0.242, 0.113, 0.032, 0.003, 0., 0., 0., 0. ],\n",
    "         [0., 0., 0., 0., 0., 0., 0.02 , 0.108, 0.226, 0.329, 0.422, 0.474, 0.477, 0.439, 0.363, 0.246, 0.13 , 0.033, 0.001, 0., 0., 0., 0., 0. ],\n",
    "         [0., 0., 0., 0., 0., 0., 0., 0.027, 0.138, 0.248, 0.34 , 0.385, 0.371, 0.35 , 0.255, 0.116, 0.019, 0., 0., 0., 0., 0., 0., 0. ],\n",
    "         [0., 0., 0., 0., 0., 0., 0., 0., 0.018, 0.111, 0.183, 0.223, 0.206, 0.18 , 0.092, 0.009, 0., 0., 0., 0., 0., 0., 0., 0. ],\n",
    "         [0., 0., 0., 0., 0., 0., 0., 0., 0., 0.054, 0.141, 0.205, 0.19 , 0.152, 0.058, 0., 0., 0., 0., 0., 0., 0., 0., 0. ]\n",
    "    ])\n",
    "    day_prod = np.array([\n",
    "        dist[month] * capacity\n",
    "        for month\n",
    "        in range(N_MONTHS)\n",
    "    ])\n",
    "    hourly_prod = np.concatenate([\n",
    "        np.tile(day_prod[month], DAYS_PER_MONTH[month]) \n",
    "        for month in range(N_MONTHS)\n",
    "    ])\n",
    "    return np.tile(hourly_prod, years)\n",
    "    \n",
    "\n",
    "def wind_prod(capacity, years=1, noise=0.0):\n",
    "    \"\"\"\n",
    "    Normalised PV output distribution computed from monthly means in PVWatts file\n",
    "    - Array indices = month (0 indexed), hour of day (0 indexed)\n",
    "    \"\"\"\n",
    "    # monthly wind\n",
    "    wind_2018 = np.array([319,214,275,276,177,174,139,193,291,330,246,339])\n",
    "    wind_2019 = np.array([345,298,400,228,276,182,223,153,311,275,246,344])\n",
    "    wind_2020 = np.array([394,471,299,238,240,181,236,133,168,294,327,275])\n",
    "    wind_2021 = np.array([267,301,326,363,340,224,298,391,321,503,469,520])\n",
    "    monthly_wind = (wind_2018 + wind_2019 + wind_2020 + wind_2021)/4\n",
    "    monthly_wind = monthly_wind / monthly_wind.max()\n",
    "    \n",
    "    hourly_wind = np.concatenate([\n",
    "        np.tile(capacity*monthly_wind[month], 24*DAYS_PER_MONTH[month])\n",
    "        for month in range(N_MONTHS)\n",
    "    ])\n",
    "    # add noise\n",
    "    hourly_wind += np.random.normal(size=len(hourly_wind)) * noise\n",
    "    return np.tile(np.clip(0, hourly_wind, capacity), years)\n",
    "\n",
    "\n",
    "def demand_dist():\n",
    "    \"\"\"\n",
    "    About:\n",
    "    - Distribution follows nordpool spot prices\n",
    "    - Array indices = hour of day\n",
    "    \"\"\"\n",
    "\n",
    "\n",
    "def demand_by_hour(annual_demand, years=1):\n",
    "    year_hours = 24*365\n",
    "    mean_demand = annual_demand / year_hours\n",
    "    dist = np.array([0.03529578, 0.03315591, 0.03214982, 0.03167976, 0.03195537,\n",
    "       0.0342873 , 0.04257203, 0.0500294 , 0.0525266 , 0.04836528,\n",
    "       0.04389886, 0.04096723, 0.03785774, 0.03547746, 0.0345392 ,\n",
    "       0.03643008, 0.04011653, 0.0476938 , 0.05329773, 0.05576439,\n",
    "       0.05228627, 0.04783387, 0.0438787 , 0.0379409 ])\n",
    "\n",
    "    return np.tile(np.concatenate([dist for _ in range(365)]) * mean_demand * 24, years)\n"
   ]
  },
  {
   "cell_type": "code",
   "execution_count": 139,
   "id": "31afa65c",
   "metadata": {},
   "outputs": [
    {
     "data": {
      "image/png": "[encoded data removed]",
      "text/plain": [
       "<Figure size 432x288 with 1 Axes>"
      ]
     },
     "metadata": {
      "needs_background": "light"
     },
     "output_type": "display_data"
    }
   ],
   "source": [
    "pv_cap = 3\n",
    "wind_cap = 5\n",
    "years=3\n",
    "\n",
    "demand = demand_by_hour(annual_demand=34_300, years=years)\n",
    "prod = pv_prod(pv_cap, years=years) + wind_prod(wind_cap, years=years, noise=1.2)\n",
    "netto = prod - demand\n",
    "netto_cumsum = netto.cumsum()\n",
    "           \n",
    "#plt.plot(demand, label='demand')\n",
    "#plt.plot(prod, label='prod')\n",
    "#plt.plot(netto, label='netto')\n",
    "plt.plot(netto_cumsum, label='netto (cumsum)')\n",
    "plt.legend()\n",
    "plt.title(f'Low point: {netto_cumsum.min()}')\n",
    "plt.show()\n"
   ]
  },
  {
   "cell_type": "code",
   "execution_count": 98,
   "id": "5d426ebd",
   "metadata": {},
   "outputs": [
    {
     "data": {
      "text/plain": [
       "[<matplotlib.lines.Line2D at 0x7fed336bf9d0>]"
      ]
     },
     "execution_count": 98,
     "metadata": {},
     "output_type": "execute_result"
    },
    {
     "data": {
      "image/png": "[encoded data removed]",
      "text/plain": [
       "<Figure size 432x288 with 1 Axes>"
      ]
     },
     "metadata": {
      "needs_background": "light"
     },
     "output_type": "display_data"
    }
   ],
   "source": [
    "plt.plot(wind_prod(wind_cap, noise=1.2))"
   ]
  },
  {
   "cell_type": "code",
   "execution_count": null,
   "id": "55d3957a",
   "metadata": {},
   "outputs": [],
   "source": []
  }
 ],
 "metadata": {
  "kernelspec": {
   "display_name": "Python 3 (ipykernel)",
   "language": "python",
   "name": "python3"
  },
  "language_info": {
   "codemirror_mode": {
    "name": "ipython",
    "version": 3
   },
   "file_extension": ".py",
   "mimetype": "text/x-python",
   "name": "python",
   "nbconvert_exporter": "python",
   "pygments_lexer": "ipython3",
   "version": "3.9.5"
  }
 },
 "nbformat": 4,
 "nbformat_minor": 5
}
